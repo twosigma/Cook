{
 "cells": [
  {
   "cell_type": "code",
   "execution_count": null,
   "metadata": {
    "collapsed": false,
    "deletable": true,
    "editable": true
   },
   "outputs": [],
   "source": [
    "%matplotlib inline \n",
    "import pandas\n",
    "import matplotlib\n",
    "import numpy as np\n",
    "import matplotlib.pyplot as plt\n",
    "import matplotlib.cm as cmx\n",
    "import matplotlib.colors"
   ]
  },
  {
   "cell_type": "code",
   "execution_count": null,
   "metadata": {
    "collapsed": true
   },
   "outputs": [],
   "source": [
    "from analysis import prepare_df, prepare_usage_df, score_card, running_concurrently, waiting_over_time, point_in_time_analysis"
   ]
  },
  {
   "cell_type": "markdown",
   "metadata": {
    "collapsed": false,
    "deletable": true,
    "editable": true
   },
   "source": [
    "# Single simulation analysis"
   ]
  },
  {
   "cell_type": "code",
   "execution_count": null,
   "metadata": {
    "collapsed": false,
    "deletable": true,
    "editable": true,
    "scrolled": true
   },
   "outputs": [],
   "source": [
    "out_trace_file = \"../example-out-trace.csv\"\n",
    "cycle_time_ms = 30000\n",
    "\n",
    "df_a = prepare_df(pandas.read_csv(out_trace_file))\n",
    "user_running_a = df_a.groupby(\"user\").apply(running_concurrently).reset_index().sort_values(\"time_ms\")\n",
    "user_waiting_a = df_a.groupby(\"user\").apply(waiting_over_time).reset_index().sort_values(\"time_ms\")\n",
    "usage_df_a = prepare_usage_df(user_running_a, user_waiting_a, cycle_time_ms)\n",
    "df_a.head()"
   ]
  },
  {
   "cell_type": "code",
   "execution_count": null,
   "metadata": {
    "collapsed": false,
    "scrolled": true
   },
   "outputs": [],
   "source": [
    "score_card(df_a, user_running_a, user_waiting_a, cycle_time_ms).transpose()"
   ]
  },
  {
   "cell_type": "markdown",
   "metadata": {},
   "source": [
    "## Point in time analysis"
   ]
  },
  {
   "cell_type": "code",
   "execution_count": null,
   "metadata": {
    "collapsed": false,
    "deletable": true,
    "editable": true,
    "scrolled": true
   },
   "outputs": [],
   "source": [
    "out_trace_file = \"../example-out-trace.csv\"\n",
    "df_a = prepare_df(pandas.read_csv(out_trace_file))\n",
    "[per_host, per_user, waiting, running_at, df_a] = point_in_time_analysis(df_a, df_a.start_time_ms.median())"
   ]
  },
  {
   "cell_type": "code",
   "execution_count": null,
   "metadata": {
    "collapsed": false,
    "deletable": true,
    "editable": true
   },
   "outputs": [],
   "source": [
    "per_host.mem.describe()"
   ]
  },
  {
   "cell_type": "code",
   "execution_count": null,
   "metadata": {
    "collapsed": false,
    "scrolled": true
   },
   "outputs": [],
   "source": [
    "per_user.sort_values(\"mem\")"
   ]
  },
  {
   "cell_type": "code",
   "execution_count": null,
   "metadata": {
    "collapsed": false
   },
   "outputs": [],
   "source": [
    "waiting"
   ]
  },
  {
   "cell_type": "code",
   "execution_count": null,
   "metadata": {
    "collapsed": false,
    "scrolled": true
   },
   "outputs": [],
   "source": [
    "running_at"
   ]
  },
  {
   "cell_type": "markdown",
   "metadata": {},
   "source": [
    "# Comparing simulation runs"
   ]
  },
  {
   "cell_type": "code",
   "execution_count": null,
   "metadata": {
    "collapsed": false,
    "deletable": true,
    "editable": true
   },
   "outputs": [],
   "source": [
    "cycle_time_ms = 30000\n",
    "\n",
    "df_a = prepare_df(pandas.read_csv(\"../example-out-trace.csv\"))\n",
    "user_running_a = df_a.groupby(\"user\").apply(running_concurrently).reset_index().sort_values(\"time_ms\")\n",
    "user_waiting_a = df_a.groupby(\"user\").apply(waiting_over_time).reset_index().sort_values(\"time_ms\")\n",
    "usage_df_a = prepare_usage_df(user_running_a, user_waiting_a, cycle_time_ms)\n",
    "\n",
    "df_b = prepare_df(pandas.read_csv(\"../example-out-trace.csv\"))\n",
    "user_running_b = df_b.groupby(\"user\").apply(running_concurrently).reset_index().sort_values(\"time_ms\")\n",
    "user_waiting_b = df_b.groupby(\"user\").apply(waiting_over_time).reset_index().sort_values(\"time_ms\")\n",
    "usage_df_b = prepare_usage_df(user_running_b, user_waiting_b, cycle_time_ms)"
   ]
  },
  {
   "cell_type": "code",
   "execution_count": null,
   "metadata": {
    "collapsed": false
   },
   "outputs": [],
   "source": [
    "scores = pandas.concat([score_card(df_a, user_running_a, user_waiting_a, cycle_time_ms),\n",
    "                        score_card(df_b, user_running_b, user_waiting_b, cycle_time_ms)]).transpose()\n",
    "scores.columns = [\"a\", \"b\"]\n",
    "scores['improvement_a_to_b'] = (scores.b - scores.a)/scores.a\n",
    "scores"
   ]
  },
  {
   "cell_type": "code",
   "execution_count": null,
   "metadata": {
    "collapsed": false
   },
   "outputs": [],
   "source": [
    "bins = np.linspace(0,1,20)\n",
    "\n",
    "ax = usage_df_a[usage_df_a.fair_ratio > 0].fair_ratio.hist(bins=bins, label=\"a\", alpha=0.8)\n",
    "usage_df_b[usage_df_b.fair_ratio > 0].fair_ratio.hist(bins=bins, ax=ax, label=\"b\", alpha=0.8)\n",
    "plt.xlim([0.,0.99])\n",
    "plt.legend()\n",
    "plt.xlabel(\"memory running over fair allocation\")\n",
    "plt.ylabel(\"frequency\")\n",
    "plt.title(\"distribution of memory running over fair allocation\")"
   ]
  },
  {
   "cell_type": "code",
   "execution_count": null,
   "metadata": {
    "collapsed": false
   },
   "outputs": [],
   "source": [
    "ax = usage_df_a[usage_df_a.fair_ratio > 0].groupby(\"time_ms\").fair_ratio.median().plot(label=\"a\", alpha=0.8)\n",
    "usage_df_b[usage_df_b.fair_ratio > 0].groupby(\"time_ms\").fair_ratio.median().plot(ax=ax, label=\"b\", alpha=0.8)\n",
    "plt.legend()\n",
    "plt.xlabel(\"time from beginning of sim (milliseconds)\")\n",
    "plt.ylabel(\"median memory running over fair allocation\")\n",
    "plt.title(\"memory running over fair allocation over time\")"
   ]
  },
  {
   "cell_type": "code",
   "execution_count": null,
   "metadata": {
    "collapsed": false
   },
   "outputs": [],
   "source": [
    "bins = 100\n",
    "ax = usage_df_a[usage_df_a.starved_mem_gb > 0].starved_mem_gb.hist(bins=bins, label=\"a\", alpha=0.8)\n",
    "usage_df_b[usage_df_b.starved_mem_gb > 0].starved_mem_gb.hist(bins=bins, ax=ax, label=\"b\", alpha=0.8)\n",
    "plt.legend()\n",
    "plt.xlabel(\"Starved memory (gb)\")\n",
    "plt.ylabel(\"frequency\")\n",
    "plt.title(\"distribution of starvation\")"
   ]
  },
  {
   "cell_type": "code",
   "execution_count": null,
   "metadata": {
    "collapsed": false
   },
   "outputs": [],
   "source": [
    "ax = usage_df_a[usage_df_a.starved_mem_gb > 0].groupby('time_ms').starved_mem_log10.median().plot(label=\"a\", alpha=0.8)\n",
    "usage_df_b[usage_df_b.starved_mem_gb > 0].groupby('time_ms').starved_mem_log10.median().plot(label=\"b\", alpha=0.8)\n",
    "plt.legend()\n",
    "plt.xlabel(\"time from beginning of sim (milliseconds)\")\n",
    "plt.ylabel(\"median log starved memory (gb)\")\n",
    "plt.title(\"log starvation over time\")"
   ]
  },
  {
   "cell_type": "code",
   "execution_count": null,
   "metadata": {
    "collapsed": false
   },
   "outputs": [],
   "source": [
    "bins = range(20)\n",
    "plt.hist(df_a.overhead/cycle_time_ms, label=\"a\", alpha=0.8, bins = bins)\n",
    "plt.hist(df_b.overhead/cycle_time_ms, label=\"b\", alpha=0.8, bins = bins)\n",
    "plt.legend()\n",
    "plt.xlabel(\"Cycles until scheduled\")\n",
    "plt.ylabel(\"frequency\")\n",
    "plt.title(\"Distribution of cycles until scheduled\")"
   ]
  }
 ],
 "metadata": {
  "kernelspec": {
   "display_name": "Python 3",
   "language": "python",
   "name": "python3"
  },
  "language_info": {
   "codemirror_mode": {
    "name": "ipython",
    "version": 3
   },
   "file_extension": ".py",
   "mimetype": "text/x-python",
   "name": "python",
   "nbconvert_exporter": "python",
   "pygments_lexer": "ipython3",
   "version": "3.5.3"
  }
 },
 "nbformat": 4,
 "nbformat_minor": 2
}
